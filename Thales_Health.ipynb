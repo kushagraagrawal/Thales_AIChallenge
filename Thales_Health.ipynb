{
  "nbformat": 4,
  "nbformat_minor": 0,
  "metadata": {
    "colab": {
      "name": "Thales_Health.ipynb",
      "version": "0.3.2",
      "provenance": [],
      "toc_visible": true,
      "include_colab_link": true
    },
    "kernelspec": {
      "name": "python3",
      "display_name": "Python 3"
    }
  },
  "cells": [
    {
      "cell_type": "markdown",
      "metadata": {
        "id": "view-in-github",
        "colab_type": "text"
      },
      "source": [
        "<a href=\"https://colab.research.google.com/github/kushagraagrawal/Thales_AIChallenge/blob/master/Thales_Health.ipynb\" target=\"_parent\"><img src=\"https://colab.research.google.com/assets/colab-badge.svg\" alt=\"Open In Colab\"/></a>"
      ]
    },
    {
      "metadata": {
        "id": "mTj8NSbnBaW8",
        "colab_type": "code",
        "outputId": "10743c9f-f246-4b92-b020-8680d49f2eda",
        "colab": {
          "base_uri": "https://localhost:8080/",
          "height": 121
        }
      },
      "cell_type": "code",
      "source": [
        "from google.colab import drive\n",
        "drive.mount('/content/gdrive')"
      ],
      "execution_count": 0,
      "outputs": [
        {
          "output_type": "stream",
          "text": [
            "Go to this URL in a browser: https://accounts.google.com/o/oauth2/auth?client_id=947318989803-6bn6qk8qdgf4n4g3pfee6491hc0brc4i.apps.googleusercontent.com&redirect_uri=urn%3Aietf%3Awg%3Aoauth%3A2.0%3Aoob&scope=email%20https%3A%2F%2Fwww.googleapis.com%2Fauth%2Fdocs.test%20https%3A%2F%2Fwww.googleapis.com%2Fauth%2Fdrive%20https%3A%2F%2Fwww.googleapis.com%2Fauth%2Fdrive.photos.readonly%20https%3A%2F%2Fwww.googleapis.com%2Fauth%2Fpeopleapi.readonly&response_type=code\n",
            "\n",
            "Enter your authorization code:\n",
            "··········\n",
            "Mounted at /content/gdrive\n"
          ],
          "name": "stdout"
        }
      ]
    },
    {
      "metadata": {
        "id": "l5blb6IB_0-Q",
        "colab_type": "code",
        "colab": {}
      },
      "cell_type": "code",
      "source": [
        "import zipfile\n",
        "with zipfile.ZipFile('gdrive/My Drive/Colab Notebooks/DataChallenge.zip', 'r') as zip_ref:\n",
        "    zip_ref.extractall('dataChallenge')"
      ],
      "execution_count": 0,
      "outputs": []
    },
    {
      "metadata": {
        "id": "dKYwvfTuz2Kv",
        "colab_type": "code",
        "outputId": "7d2b17c4-7b8f-44a8-ca74-2fd300bc0e02",
        "colab": {
          "base_uri": "https://localhost:8080/",
          "height": 218
        }
      },
      "cell_type": "code",
      "source": [
        "!pip install tifffile\n",
        "!pip3 install torch torchvision"
      ],
      "execution_count": 0,
      "outputs": [
        {
          "output_type": "stream",
          "text": [
            "Collecting tifffile\n",
            "\u001b[?25l  Downloading https://files.pythonhosted.org/packages/41/03/977ee0a369ac4f922f5189d391ae6181fa132852e423a5ee399b456d8357/tifffile-2019.3.18-py2.py3-none-any.whl (126kB)\n",
            "\u001b[K    100% |████████████████████████████████| 133kB 5.9MB/s \n",
            "\u001b[?25hRequirement already satisfied: numpy>=1.11.3 in /usr/local/lib/python3.6/dist-packages (from tifffile) (1.16.3)\n",
            "Installing collected packages: tifffile\n",
            "Successfully installed tifffile-2019.3.18\n",
            "Requirement already satisfied: torch in /usr/local/lib/python3.6/dist-packages (1.0.1.post2)\n",
            "Requirement already satisfied: torchvision in /usr/local/lib/python3.6/dist-packages (0.2.2.post3)\n",
            "Requirement already satisfied: six in /usr/local/lib/python3.6/dist-packages (from torchvision) (1.12.0)\n",
            "Requirement already satisfied: pillow>=4.1.1 in /usr/local/lib/python3.6/dist-packages (from torchvision) (4.3.0)\n",
            "Requirement already satisfied: numpy in /usr/local/lib/python3.6/dist-packages (from torchvision) (1.16.3)\n",
            "Requirement already satisfied: olefile in /usr/local/lib/python3.6/dist-packages (from pillow>=4.1.1->torchvision) (0.46)\n"
          ],
          "name": "stdout"
        }
      ]
    },
    {
      "metadata": {
        "id": "JzTejEgUB-RK",
        "colab_type": "code",
        "colab": {}
      },
      "cell_type": "code",
      "source": [
        "from __future__ import print_function, division\n",
        "import os\n",
        "import torch\n",
        "import pandas as pd\n",
        "from skimage import io, transform\n",
        "import numpy as np\n",
        "import matplotlib.pyplot as plt\n",
        "from torch.utils.data import Dataset, DataLoader\n",
        "from torchvision import transforms, utils\n",
        "import tifffile as tiff\n",
        "\n",
        "# Ignore warnings\n",
        "import warnings\n",
        "warnings.filterwarnings(\"ignore\")\n",
        "\n",
        "plt.ion()   # interactive mode"
      ],
      "execution_count": 0,
      "outputs": []
    },
    {
      "metadata": {
        "id": "rQ0e105JCR35",
        "colab_type": "code",
        "outputId": "d459648e-4c91-43c8-cd8c-c0149daa9f4e",
        "colab": {
          "base_uri": "https://localhost:8080/",
          "height": 202
        }
      },
      "cell_type": "code",
      "source": [
        "train_df = pd.read_csv('dataChallenge/DataChallenge/descriptions_training.csv', header=None, \n",
        "                           names = [\"nb_spots\", \n",
        "                                    \"x_first_spot\", \"y_first_spot\",\n",
        "                                    \"x_second_spot\", \"y_second_spot\"])\n",
        "print(train_df.head())\n",
        "n = 4\n",
        "img_name = train_df.iloc[n, 0]\n",
        "train = train_df.iloc[n, 2:].as_matrix()\n",
        "#train = train.astype('float').reshape(-1, 2)\n",
        "print(train.shape)\n",
        "print(train_df.shape)\n",
        "print('Image name: {}'.format(img_name))\n",
        "print('Landmarks shape: {}'.format(train.shape))\n",
        "print('First 4 Landmarks: {}'.format(train[:4]))"
      ],
      "execution_count": 0,
      "outputs": [
        {
          "output_type": "stream",
          "text": [
            "   nb_spots  x_first_spot  y_first_spot  x_second_spot  y_second_spot\n",
            "0         1     18.877351     16.573234            0.0            0.0\n",
            "1         1     10.159097     15.718106            0.0            0.0\n",
            "2         1      9.441056     14.829910            0.0            0.0\n",
            "3         0      0.000000      0.000000            0.0            0.0\n",
            "4         0      0.000000      0.000000            0.0            0.0\n",
            "(3,)\n",
            "(209933, 5)\n",
            "Image name: 0\n",
            "Landmarks shape: (3,)\n",
            "First 4 Landmarks: [0. 0. 0.]\n"
          ],
          "name": "stdout"
        }
      ]
    },
    {
      "metadata": {
        "id": "mTokW5KQN6zd",
        "colab_type": "code",
        "colab": {}
      },
      "cell_type": "code",
      "source": [
        "scan = []\n",
        "\n",
        "scan = tiff.imread(\"dataChallenge/DataChallenge/images_training.tiff\")"
      ],
      "execution_count": 0,
      "outputs": []
    },
    {
      "metadata": {
        "id": "YBFHpA6xIBE6",
        "colab_type": "code",
        "colab": {}
      },
      "cell_type": "code",
      "source": [
        "class SpotDetectionDataset(Dataset):\n",
        "  def __init__(self, csv_file, root_dir, transform=None):\n",
        "    self.train_df = pd.read_csv(csv_file, header=None, names = [\"nb_spots\", \n",
        "                                    \"x_first_spot\", \"y_first_spot\",\n",
        "                                    \"x_second_spot\", \"y_second_spot\"])\n",
        "    self.root_dir = root_dir\n",
        "    self.transform = transform\n",
        "  \n",
        "  def __len__(self):\n",
        "    return len(self.train_df)\n",
        "  \n",
        "  def __getitem__(self, idx):\n",
        "#     print(scan[idx].shape)\n",
        " #   image = scan[idx,:,:,0]\n",
        "#     image = transforms.ToPILImage()(image)\n",
        "    image = scan[idx]\n",
        "    spots = self.train_df.iloc[idx, 1:5].as_matrix()\n",
        "    spots = spots.astype('float').reshape(-1, 2)\n",
        "    sample = {'image': image, 'spots': spots}\n",
        "    if self.transform:\n",
        "      sample = self.transform(sample)\n",
        "    \n",
        "    return sample   \n",
        "    \n",
        "    "
      ],
      "execution_count": 0,
      "outputs": []
    },
    {
      "metadata": {
        "id": "zWVvi9mGfQnc",
        "colab_type": "code",
        "colab": {}
      },
      "cell_type": "code",
      "source": [
        "def show_spots(image, spots):\n",
        "    \"\"\"Show image with landmarks\"\"\"\n",
        "    print\n",
        "    plt.imshow(image)\n",
        "    plt.scatter(spots[:, 0], spots[:, 1], s=4, marker='.', c='r')\n",
        "    plt.pause(0.001)  # pause a bit so that plots are updated\n"
      ],
      "execution_count": 0,
      "outputs": []
    },
    {
      "metadata": {
        "id": "gRcJVpwXelHB",
        "colab_type": "code",
        "outputId": "2b215d6e-09ea-4795-dfcf-270d26ce8ef6",
        "colab": {
          "base_uri": "https://localhost:8080/",
          "height": 585
        }
      },
      "cell_type": "code",
      "source": [
        "spot_dataset = SpotDetectionDataset(csv_file='dataChallenge/DataChallenge/descriptions_training.csv',\n",
        "                                    root_dir='dataChallenge/DataChallenge/images_training.tiff')\n",
        "\n",
        "fig = plt.figure()\n",
        "\n",
        "for i in range(len(spot_dataset)):\n",
        "    sample = spot_dataset[i]\n",
        "\n",
        "    print(i, sample['image'].shape, sample['spots'].shape)\n",
        "\n",
        "    ax = plt.subplot(1, 4, i + 1)\n",
        "    plt.tight_layout()\n",
        "    ax.set_title('Sample #{}'.format(i))\n",
        "    ax.axis('off')\n",
        "    show_spots(**sample)\n",
        "\n",
        "    if i == 3:\n",
        "        plt.show()\n",
        "        break"
      ],
      "execution_count": 89,
      "outputs": [
        {
          "output_type": "stream",
          "text": [
            "0 (24, 24, 3) (2, 2)\n"
          ],
          "name": "stdout"
        },
        {
          "output_type": "display_data",
          "data": {
            "image/png": "[encoded data removed]",
            "text/plain": [
              "<Figure size 432x288 with 1 Axes>"
            ]
          },
          "metadata": {
            "tags": []
          }
        },
        {
          "output_type": "stream",
          "text": [
            "1 (24, 24, 3) (2, 2)\n"
          ],
          "name": "stdout"
        },
        {
          "output_type": "display_data",
          "data": {
            "image/png": "[encoded data removed]",
            "text/plain": [
              "<Figure size 432x288 with 1 Axes>"
            ]
          },
          "metadata": {
            "tags": []
          }
        },
        {
          "output_type": "stream",
          "text": [
            "2 (24, 24, 3) (2, 2)\n"
          ],
          "name": "stdout"
        },
        {
          "output_type": "display_data",
          "data": {
            "image/png": "[encoded data removed]",
            "text/plain": [
              "<Figure size 432x288 with 1 Axes>"
            ]
          },
          "metadata": {
            "tags": []
          }
        },
        {
          "output_type": "stream",
          "text": [
            "3 (24, 24, 3) (2, 2)\n"
          ],
          "name": "stdout"
        },
        {
          "output_type": "display_data",
          "data": {
            "image/png": "[encoded data removed]",
            "text/plain": [
              "<Figure size 432x288 with 1 Axes>"
            ]
          },
          "metadata": {
            "tags": []
          }
        }
      ]
    },
    {
      "metadata": {
        "id": "Je9Qlp6Ao-9X",
        "colab_type": "code",
        "outputId": "37ecca0f-8aad-4cd9-d88a-cbf2f4f9ffc1",
        "colab": {
          "base_uri": "https://localhost:8080/",
          "height": 212
        }
      },
      "cell_type": "code",
      "source": [
        "transformed_dataset = SpotDetectionDataset(csv_file='dataChallenge/DataChallenge/descriptions_training.csv',\n",
        "                                    root_dir='dataChallenge/DataChallenge/images_training.tiff',\n",
        "                                          transform=transforms.Compose([\n",
        "                                              Rescale(64),\n",
        "                                               ToTensor()\n",
        "                                           ]))\n",
        "\n",
        "dataloader = DataLoader(transformed_dataset, batch_size=4, shuffle=True, num_workers=4)\n",
        "\n",
        "\n",
        "def show_spots_batch(sample_batched):\n",
        "  images_batch, spots_batch = sample_batched['image'], sample_batched['spots']\n",
        "  batch_size = len(images_batch)\n",
        "  im_size = images_batch.size(2)\n",
        "  grid = utils.make_grid(images_batch)\n",
        "  plt.imshow(grid.numpy().transpose((1,2,0)))\n",
        "  \n",
        "  for i in range(batch_size):\n",
        "    plt.scatter(spots_batch[i,:,0].numpy() + i * im_size,\n",
        "               spots_batch[i,:,1].numpy(),\n",
        "               s=10, marker='.', c='r')\n",
        "    plt.title('Batch')\n",
        "\n",
        "for i_batch, sample_batched in enumerate(dataloader):\n",
        "  print(i_batch, sample_batched['image'].size(),\n",
        "       sample_batched['spots'].size())\n",
        "  if i_batch == 3:\n",
        "    plt.figure()\n",
        "    show_spots_batch(sample_batched)\n",
        "    plt.axis('off')\n",
        "    plt.ioff()\n",
        "    plt.show()\n",
        "    break\n",
        "  "
      ],
      "execution_count": 93,
      "outputs": [
        {
          "output_type": "stream",
          "text": [
            "0 torch.Size([4, 3, 64, 64]) torch.Size([4, 2, 2])\n",
            "1 torch.Size([4, 3, 64, 64]) torch.Size([4, 2, 2])\n",
            "2 torch.Size([4, 3, 64, 64]) torch.Size([4, 2, 2])\n",
            "3 torch.Size([4, 3, 64, 64]) torch.Size([4, 2, 2])\n"
          ],
          "name": "stdout"
        },
        {
          "output_type": "display_data",
          "data": {
            "image/png": "[encoded data removed]",
            "text/plain": [
              "<Figure size 432x288 with 1 Axes>"
            ]
          },
          "metadata": {
            "tags": []
          }
        }
      ]
    },
    {
      "metadata": {
        "id": "xsRungT6wp42",
        "colab_type": "code",
        "colab": {}
      },
      "cell_type": "code",
      "source": [
        ""
      ],
      "execution_count": 0,
      "outputs": []
    },
    {
      "metadata": {
        "id": "56-6YcaVogoi",
        "colab_type": "text"
      },
      "cell_type": "markdown",
      "source": [
        "### Not adding Transformations for now, work on simple dataset"
      ]
    },
    {
      "metadata": {
        "id": "k0tX9XOnzBRB",
        "colab_type": "code",
        "colab": {}
      },
      "cell_type": "code",
      "source": [
        "class Rescale(object):\n",
        "    \"\"\"Rescale the image in a sample to a given size.\n",
        "\n",
        "    Args:\n",
        "        output_size (tuple or int): Desired output size. If tuple, output is\n",
        "            matched to output_size. If int, smaller of image edges is matched\n",
        "            to output_size keeping aspect ratio the same.\n",
        "    \"\"\"\n",
        "\n",
        "    def __init__(self, output_size):\n",
        "        assert isinstance(output_size, (int, tuple))\n",
        "        self.output_size = output_size\n",
        "\n",
        "    def __call__(self, sample):\n",
        "        image, spots = sample['image'], sample['spots']\n",
        "\n",
        "        h, w = image.shape[:2]\n",
        "        if isinstance(self.output_size, int):\n",
        "            if h > w:\n",
        "                new_h, new_w = self.output_size * h / w, self.output_size\n",
        "            else:\n",
        "                new_h, new_w = self.output_size, self.output_size * w / h\n",
        "        else:\n",
        "            new_h, new_w = self.output_size\n",
        "\n",
        "        new_h, new_w = int(new_h), int(new_w)\n",
        "\n",
        "        img = transform.resize(image, (new_h, new_w))\n",
        "\n",
        "        # h and w are swapped for landmarks because for images,\n",
        "        # x and y axes are axis 1 and 0 respectively\n",
        "        spots = spots * [new_w / w, new_h / h]\n",
        "\n",
        "        return {'image': img, 'spots': spots}\n",
        "\n",
        "\n",
        "class RandomCrop(object):\n",
        "    \"\"\"Crop randomly the image in a sample.\n",
        "\n",
        "    Args:\n",
        "        output_size (tuple or int): Desired output size. If int, square crop\n",
        "            is made.\n",
        "    \"\"\"\n",
        "\n",
        "    def __init__(self, output_size):\n",
        "        assert isinstance(output_size, (int, tuple))\n",
        "        if isinstance(output_size, int):\n",
        "            self.output_size = (output_size, output_size)\n",
        "        else:\n",
        "            assert len(output_size) == 2\n",
        "            self.output_size = output_size\n",
        "\n",
        "    def __call__(self, sample):\n",
        "        image, spots = sample['image'], sample['spots']\n",
        "\n",
        "        h, w = image.shape[:2]\n",
        "        new_h, new_w = self.output_size\n",
        "\n",
        "        top = np.random.randint(0, h - new_h)\n",
        "        left = np.random.randint(0, w - new_w)\n",
        "\n",
        "        image = image[top: top + new_h,\n",
        "                      left: left + new_w]\n",
        "\n",
        "        spots = spots - [left, top]\n",
        "\n",
        "        return {'image': image, 'spots': spots}\n",
        "\n",
        "\n",
        "class ToTensor(object):\n",
        "    \"\"\"Convert ndarrays in sample to Tensors.\"\"\"\n",
        "\n",
        "    def __call__(self, sample):\n",
        "        image, spots = sample['image'], sample['spots']\n",
        "\n",
        "        # swap color axis because\n",
        "        # numpy image: H x W x C\n",
        "        # torch image: C X H X W\n",
        "        image = image.transpose((2, 0, 1))\n",
        "        return {'image': torch.from_numpy(image),\n",
        "                'spots': torch.from_numpy(spots)}"
      ],
      "execution_count": 0,
      "outputs": []
    },
    {
      "metadata": {
        "id": "X-XJgECAg7uH",
        "colab_type": "code",
        "outputId": "d5f250ed-1566-4e09-8d87-7f0c75542ae6",
        "colab": {
          "base_uri": "https://localhost:8080/",
          "height": 515
        }
      },
      "cell_type": "code",
      "source": [
        "scale = Rescale(30)\n",
        "crop = RandomCrop(20)\n",
        "composed = transforms.Compose([Rescale(30),\n",
        "                               RandomCrop(20)])\n",
        "\n",
        "# Apply each of the above transforms on sample.\n",
        "fig = plt.figure()\n",
        "sample = spot_dataset[65]\n",
        "for i, tsfrm in enumerate([scale, crop, composed]):\n",
        "    transformed_sample = tsfrm(sample)\n",
        "\n",
        "    ax = plt.subplot(1, 3, i + 1)\n",
        "    plt.tight_layout()\n",
        "    ax.set_title(type(tsfrm).__name__)\n",
        "    show_spots(**transformed_sample)\n",
        "\n",
        "plt.show()"
      ],
      "execution_count": 0,
      "outputs": [
        {
          "output_type": "display_data",
          "data": {
            "image/png": "[encoded data removed]",
            "text/plain": [
              "<Figure size 432x288 with 1 Axes>"
            ]
          },
          "metadata": {
            "tags": []
          }
        },
        {
          "output_type": "display_data",
          "data": {
            "image/png": "[encoded data removed]",
            "text/plain": [
              "<Figure size 432x288 with 1 Axes>"
            ]
          },
          "metadata": {
            "tags": []
          }
        },
        {
          "output_type": "display_data",
          "data": {
            "image/png": "[encoded data removed]",
            "text/plain": [
              "<Figure size 432x288 with 1 Axes>"
            ]
          },
          "metadata": {
            "tags": []
          }
        }
      ]
    },
    {
      "metadata": {
        "id": "N2WJIueZkGY9",
        "colab_type": "code",
        "colab": {}
      },
      "cell_type": "code",
      "source": [
        "trn_trnsfms = transforms.Compose([\n",
        "    transforms.Resize((24, 24)),\n",
        "    transforms.RandomHorizontalFlip(),\n",
        "    transforms.RandomVerticalFlip(),\n",
        "    transforms.RandomAffine(degrees=30),\n",
        "    transforms.ToTensor(),\n",
        "    transforms.Normalize(\n",
        "        mean=[0.485, 0.456, 0.406],\n",
        "        std=[0.229, 0.224, 0.225]\n",
        "    )\n",
        "])\n",
        "\n",
        "tst_trnsfms = transforms.Compose([\n",
        "    transforms.Resize((24, 24)),\n",
        "    transforms.ToTensor(),\n",
        "    transforms.Normalize(\n",
        "        mean=[0.485, 0.456, 0.406],\n",
        "        std=[0.229, 0.224, 0.225]\n",
        "    )\n",
        "])"
      ],
      "execution_count": 0,
      "outputs": []
    },
    {
      "metadata": {
        "id": "e_YdnExmie-3",
        "colab_type": "code",
        "outputId": "21fe3cdf-b258-4725-cf77-ce733d554426",
        "colab": {
          "base_uri": "https://localhost:8080/",
          "height": 370
        }
      },
      "cell_type": "code",
      "source": [
        "transformed_dataset = SpotDetectionDataset(csv_file='dataChallenge/DataChallenge/descriptions_training.csv',\n",
        "                                           root_dir='dataChallenge/DataChallenge/images_training.tiff',\n",
        "                                          transform=trn_trnsfms)\n",
        "\n",
        "# transformed_dataset = trn_trnsfms(transforms.ToPILImage()(transformed_dataset))\n",
        "\n",
        "for i in range(len(transformed_dataset)):\n",
        "    sample = transformed_dataset[i]\n",
        "    sample['image'] = transforms.ToPILImage()(sample['image'])\n",
        "    print(i, sample['image'].size(), sample['landmarks'].size())\n",
        "\n",
        "    if i == 3:\n",
        "        break"
      ],
      "execution_count": 0,
      "outputs": [
        {
          "output_type": "error",
          "ename": "TypeError",
          "evalue": "ignored",
          "traceback": [
            "\u001b[0;31m---------------------------------------------------------------------------\u001b[0m",
            "\u001b[0;31mTypeError\u001b[0m                                 Traceback (most recent call last)",
            "\u001b[0;32m<ipython-input-73-f2fa44feb422>\u001b[0m in \u001b[0;36m<module>\u001b[0;34m()\u001b[0m\n\u001b[1;32m      6\u001b[0m \u001b[0;34m\u001b[0m\u001b[0m\n\u001b[1;32m      7\u001b[0m \u001b[0;32mfor\u001b[0m \u001b[0mi\u001b[0m \u001b[0;32min\u001b[0m \u001b[0mrange\u001b[0m\u001b[0;34m(\u001b[0m\u001b[0mlen\u001b[0m\u001b[0;34m(\u001b[0m\u001b[0mtransformed_dataset\u001b[0m\u001b[0;34m)\u001b[0m\u001b[0;34m)\u001b[0m\u001b[0;34m:\u001b[0m\u001b[0;34m\u001b[0m\u001b[0;34m\u001b[0m\u001b[0m\n\u001b[0;32m----> 8\u001b[0;31m     \u001b[0msample\u001b[0m \u001b[0;34m=\u001b[0m \u001b[0mtransformed_dataset\u001b[0m\u001b[0;34m[\u001b[0m\u001b[0mi\u001b[0m\u001b[0;34m]\u001b[0m\u001b[0;34m\u001b[0m\u001b[0;34m\u001b[0m\u001b[0m\n\u001b[0m\u001b[1;32m      9\u001b[0m     \u001b[0msample\u001b[0m\u001b[0;34m[\u001b[0m\u001b[0;34m'image'\u001b[0m\u001b[0;34m]\u001b[0m \u001b[0;34m=\u001b[0m \u001b[0mtransforms\u001b[0m\u001b[0;34m.\u001b[0m\u001b[0mToPILImage\u001b[0m\u001b[0;34m(\u001b[0m\u001b[0;34m)\u001b[0m\u001b[0;34m(\u001b[0m\u001b[0msample\u001b[0m\u001b[0;34m[\u001b[0m\u001b[0;34m'image'\u001b[0m\u001b[0;34m]\u001b[0m\u001b[0;34m)\u001b[0m\u001b[0;34m\u001b[0m\u001b[0;34m\u001b[0m\u001b[0m\n\u001b[1;32m     10\u001b[0m     \u001b[0mprint\u001b[0m\u001b[0;34m(\u001b[0m\u001b[0mi\u001b[0m\u001b[0;34m,\u001b[0m \u001b[0msample\u001b[0m\u001b[0;34m[\u001b[0m\u001b[0;34m'image'\u001b[0m\u001b[0;34m]\u001b[0m\u001b[0;34m.\u001b[0m\u001b[0msize\u001b[0m\u001b[0;34m(\u001b[0m\u001b[0;34m)\u001b[0m\u001b[0;34m,\u001b[0m \u001b[0msample\u001b[0m\u001b[0;34m[\u001b[0m\u001b[0;34m'landmarks'\u001b[0m\u001b[0;34m]\u001b[0m\u001b[0;34m.\u001b[0m\u001b[0msize\u001b[0m\u001b[0;34m(\u001b[0m\u001b[0;34m)\u001b[0m\u001b[0;34m)\u001b[0m\u001b[0;34m\u001b[0m\u001b[0;34m\u001b[0m\u001b[0m\n",
            "\u001b[0;32m<ipython-input-65-6429eb158e02>\u001b[0m in \u001b[0;36m__getitem__\u001b[0;34m(self, idx)\u001b[0m\n\u001b[1;32m     18\u001b[0m     \u001b[0msample\u001b[0m \u001b[0;34m=\u001b[0m \u001b[0;34m{\u001b[0m\u001b[0;34m'image'\u001b[0m\u001b[0;34m:\u001b[0m \u001b[0mimage\u001b[0m\u001b[0;34m,\u001b[0m \u001b[0;34m'spots'\u001b[0m\u001b[0;34m:\u001b[0m \u001b[0mspots\u001b[0m\u001b[0;34m}\u001b[0m\u001b[0;34m\u001b[0m\u001b[0;34m\u001b[0m\u001b[0m\n\u001b[1;32m     19\u001b[0m     \u001b[0;32mif\u001b[0m \u001b[0mself\u001b[0m\u001b[0;34m.\u001b[0m\u001b[0mtransform\u001b[0m\u001b[0;34m:\u001b[0m\u001b[0;34m\u001b[0m\u001b[0;34m\u001b[0m\u001b[0m\n\u001b[0;32m---> 20\u001b[0;31m       \u001b[0msample\u001b[0m \u001b[0;34m=\u001b[0m \u001b[0mself\u001b[0m\u001b[0;34m.\u001b[0m\u001b[0mtransform\u001b[0m\u001b[0;34m(\u001b[0m\u001b[0msample\u001b[0m\u001b[0;34m)\u001b[0m\u001b[0;34m\u001b[0m\u001b[0;34m\u001b[0m\u001b[0m\n\u001b[0m\u001b[1;32m     21\u001b[0m \u001b[0;34m\u001b[0m\u001b[0m\n\u001b[1;32m     22\u001b[0m     \u001b[0;32mreturn\u001b[0m \u001b[0msample\u001b[0m\u001b[0;34m\u001b[0m\u001b[0;34m\u001b[0m\u001b[0m\n",
            "\u001b[0;32m/usr/local/lib/python3.6/dist-packages/torchvision/transforms/transforms.py\u001b[0m in \u001b[0;36m__call__\u001b[0;34m(self, img)\u001b[0m\n\u001b[1;32m     58\u001b[0m     \u001b[0;32mdef\u001b[0m \u001b[0m__call__\u001b[0m\u001b[0;34m(\u001b[0m\u001b[0mself\u001b[0m\u001b[0;34m,\u001b[0m \u001b[0mimg\u001b[0m\u001b[0;34m)\u001b[0m\u001b[0;34m:\u001b[0m\u001b[0;34m\u001b[0m\u001b[0;34m\u001b[0m\u001b[0m\n\u001b[1;32m     59\u001b[0m         \u001b[0;32mfor\u001b[0m \u001b[0mt\u001b[0m \u001b[0;32min\u001b[0m \u001b[0mself\u001b[0m\u001b[0;34m.\u001b[0m\u001b[0mtransforms\u001b[0m\u001b[0;34m:\u001b[0m\u001b[0;34m\u001b[0m\u001b[0;34m\u001b[0m\u001b[0m\n\u001b[0;32m---> 60\u001b[0;31m             \u001b[0mimg\u001b[0m \u001b[0;34m=\u001b[0m \u001b[0mt\u001b[0m\u001b[0;34m(\u001b[0m\u001b[0mimg\u001b[0m\u001b[0;34m)\u001b[0m\u001b[0;34m\u001b[0m\u001b[0;34m\u001b[0m\u001b[0m\n\u001b[0m\u001b[1;32m     61\u001b[0m         \u001b[0;32mreturn\u001b[0m \u001b[0mimg\u001b[0m\u001b[0;34m\u001b[0m\u001b[0;34m\u001b[0m\u001b[0m\n\u001b[1;32m     62\u001b[0m \u001b[0;34m\u001b[0m\u001b[0m\n",
            "\u001b[0;32m/usr/local/lib/python3.6/dist-packages/torchvision/transforms/transforms.py\u001b[0m in \u001b[0;36m__call__\u001b[0;34m(self, img)\u001b[0m\n\u001b[1;32m    193\u001b[0m             \u001b[0mPIL\u001b[0m \u001b[0mImage\u001b[0m\u001b[0;34m:\u001b[0m \u001b[0mRescaled\u001b[0m \u001b[0mimage\u001b[0m\u001b[0;34m.\u001b[0m\u001b[0;34m\u001b[0m\u001b[0;34m\u001b[0m\u001b[0m\n\u001b[1;32m    194\u001b[0m         \"\"\"\n\u001b[0;32m--> 195\u001b[0;31m         \u001b[0;32mreturn\u001b[0m \u001b[0mF\u001b[0m\u001b[0;34m.\u001b[0m\u001b[0mresize\u001b[0m\u001b[0;34m(\u001b[0m\u001b[0mimg\u001b[0m\u001b[0;34m,\u001b[0m \u001b[0mself\u001b[0m\u001b[0;34m.\u001b[0m\u001b[0msize\u001b[0m\u001b[0;34m,\u001b[0m \u001b[0mself\u001b[0m\u001b[0;34m.\u001b[0m\u001b[0minterpolation\u001b[0m\u001b[0;34m)\u001b[0m\u001b[0;34m\u001b[0m\u001b[0;34m\u001b[0m\u001b[0m\n\u001b[0m\u001b[1;32m    196\u001b[0m \u001b[0;34m\u001b[0m\u001b[0m\n\u001b[1;32m    197\u001b[0m     \u001b[0;32mdef\u001b[0m \u001b[0m__repr__\u001b[0m\u001b[0;34m(\u001b[0m\u001b[0mself\u001b[0m\u001b[0;34m)\u001b[0m\u001b[0;34m:\u001b[0m\u001b[0;34m\u001b[0m\u001b[0;34m\u001b[0m\u001b[0m\n",
            "\u001b[0;32m/usr/local/lib/python3.6/dist-packages/torchvision/transforms/functional.py\u001b[0m in \u001b[0;36mresize\u001b[0;34m(img, size, interpolation)\u001b[0m\n\u001b[1;32m    227\u001b[0m     \"\"\"\n\u001b[1;32m    228\u001b[0m     \u001b[0;32mif\u001b[0m \u001b[0;32mnot\u001b[0m \u001b[0m_is_pil_image\u001b[0m\u001b[0;34m(\u001b[0m\u001b[0mimg\u001b[0m\u001b[0;34m)\u001b[0m\u001b[0;34m:\u001b[0m\u001b[0;34m\u001b[0m\u001b[0;34m\u001b[0m\u001b[0m\n\u001b[0;32m--> 229\u001b[0;31m         \u001b[0;32mraise\u001b[0m \u001b[0mTypeError\u001b[0m\u001b[0;34m(\u001b[0m\u001b[0;34m'img should be PIL Image. Got {}'\u001b[0m\u001b[0;34m.\u001b[0m\u001b[0mformat\u001b[0m\u001b[0;34m(\u001b[0m\u001b[0mtype\u001b[0m\u001b[0;34m(\u001b[0m\u001b[0mimg\u001b[0m\u001b[0;34m)\u001b[0m\u001b[0;34m)\u001b[0m\u001b[0;34m)\u001b[0m\u001b[0;34m\u001b[0m\u001b[0;34m\u001b[0m\u001b[0m\n\u001b[0m\u001b[1;32m    230\u001b[0m     \u001b[0;32mif\u001b[0m \u001b[0;32mnot\u001b[0m \u001b[0;34m(\u001b[0m\u001b[0misinstance\u001b[0m\u001b[0;34m(\u001b[0m\u001b[0msize\u001b[0m\u001b[0;34m,\u001b[0m \u001b[0mint\u001b[0m\u001b[0;34m)\u001b[0m \u001b[0;32mor\u001b[0m \u001b[0;34m(\u001b[0m\u001b[0misinstance\u001b[0m\u001b[0;34m(\u001b[0m\u001b[0msize\u001b[0m\u001b[0;34m,\u001b[0m \u001b[0mIterable\u001b[0m\u001b[0;34m)\u001b[0m \u001b[0;32mand\u001b[0m \u001b[0mlen\u001b[0m\u001b[0;34m(\u001b[0m\u001b[0msize\u001b[0m\u001b[0;34m)\u001b[0m \u001b[0;34m==\u001b[0m \u001b[0;36m2\u001b[0m\u001b[0;34m)\u001b[0m\u001b[0;34m)\u001b[0m\u001b[0;34m:\u001b[0m\u001b[0;34m\u001b[0m\u001b[0;34m\u001b[0m\u001b[0m\n\u001b[1;32m    231\u001b[0m         \u001b[0;32mraise\u001b[0m \u001b[0mTypeError\u001b[0m\u001b[0;34m(\u001b[0m\u001b[0;34m'Got inappropriate size arg: {}'\u001b[0m\u001b[0;34m.\u001b[0m\u001b[0mformat\u001b[0m\u001b[0;34m(\u001b[0m\u001b[0msize\u001b[0m\u001b[0;34m)\u001b[0m\u001b[0;34m)\u001b[0m\u001b[0;34m\u001b[0m\u001b[0;34m\u001b[0m\u001b[0m\n",
            "\u001b[0;31mTypeError\u001b[0m: img should be PIL Image. Got <class 'dict'>"
          ]
        }
      ]
    },
    {
      "metadata": {
        "id": "mKGzgElzz7iB",
        "colab_type": "code",
        "colab": {}
      },
      "cell_type": "code",
      "source": [
        "# def read_images(nameFile):\n",
        "#     \"\"\"\n",
        "#     Return a list of images present in the .tiff file named \n",
        "#     `nameFile` in the Data folder\n",
        "#     \"\"\"\n",
        "#     dataImages = []\n",
        "#     scan = []\n",
        "#     try:\n",
        "#         scan = tiff.imread(\"dataChallenge/DataChallenge/\"+nameFile) # load the images\n",
        "#     except:\n",
        "#         print(\"ERROR: file Data/\" + nameFile + \" not found!\")\n",
        "#         return\n",
        "\n",
        "#     for element in range(len(scan)):\n",
        "#         image = scan[element, :,:,0] # Images are in gray scale\n",
        "#         dataImages.append(image)\n",
        "        \n",
        "#     return dataImages"
      ],
      "execution_count": 0,
      "outputs": []
    },
    {
      "metadata": {
        "id": "vafOqvbuD6hX",
        "colab_type": "code",
        "colab": {}
      },
      "cell_type": "code",
      "source": [
        "def prepare_labels(y):\n",
        "    # From here: https://www.kaggle.com/pestipeti/keras-cnn-starter\n",
        "    values = np.array(y)\n",
        "    label_encoder = LabelEncoder()\n",
        "    integer_encoded = label_encoder.fit_transform(values)\n",
        "\n",
        "    onehot_encoder = OneHotEncoder(sparse=False)\n",
        "    integer_encoded = integer_encoded.reshape(len(integer_encoded), 1)\n",
        "    onehot_encoded = onehot_encoder.fit_transform(integer_encoded)\n",
        "\n",
        "    y = onehot_encoded\n",
        "    return y, label_encoder"
      ],
      "execution_count": 0,
      "outputs": []
    },
    {
      "metadata": {
        "id": "f2NPgvrHK_xK",
        "colab_type": "code",
        "colab": {}
      },
      "cell_type": "code",
      "source": [
        ""
      ],
      "execution_count": 0,
      "outputs": []
    },
    {
      "metadata": {
        "id": "cM2tvppq0QZu",
        "colab_type": "code",
        "outputId": "991f689e-2d0a-4554-c7e2-8f0e694ca5c0",
        "colab": {
          "base_uri": "https://localhost:8080/",
          "height": 364
        }
      },
      "cell_type": "code",
      "source": [
        "nImage = 16\n",
        "image_copy = np.copy(train_images[nImage])\n",
        "spot1 = descriptions.iloc[nImage, 1:3].values\n",
        "spot2 = descriptions.iloc[nImage, 3:5].values\n",
        "intensity = min( np.max(image_copy) + 20, 255)\n",
        "if spot1[0] != 0 and spot1[1] != 0:\n",
        "    image_copy[int(round(spot1[1]))][int(round(spot1[0]))] = intensity\n",
        "if spot2[0] != 0 and spot2[1] != 0:\n",
        "    image_copy[int(round(spot2[1]))][int(round(spot2[0]))] = intensity\n",
        "plt.imshow(image_copy, cmap=plt.get_cmap('gray'))"
      ],
      "execution_count": 0,
      "outputs": [
        {
          "output_type": "execute_result",
          "data": {
            "text/plain": [
              "<matplotlib.image.AxesImage at 0x7f9401a31400>"
            ]
          },
          "metadata": {
            "tags": []
          },
          "execution_count": 12
        },
        {
          "output_type": "display_data",
          "data": {
            "image/png": "[encoded data removed]",
            "text/plain": [
              "<Figure size 576x396 with 1 Axes>"
            ]
          },
          "metadata": {
            "tags": []
          }
        }
      ]
    },
    {
      "metadata": {
        "id": "xFh8xMsq0S8l",
        "colab_type": "code",
        "colab": {}
      },
      "cell_type": "code",
      "source": [
        "def random_predict(images):\n",
        "    \"\"\"\n",
        "    Return a DataFrame with a random pediciton for the `images` list.\n",
        "    \"\"\"\n",
        "    rand_spot = np.random.randint(low = 0, high = 21, size = len(images))\n",
        "    rand_location = np.random.random(len(images)) * 16 + 4\n",
        "    answer =  pd.DataFrame(0, \n",
        "                           index=np.arange(len(images)), \n",
        "                           columns=[\"nb_spots\", \n",
        "                                     \"x_first_spot\", \"y_first_spot\",\n",
        "                                     \"x_second_spot\", \"y_second_spot\"])\n",
        "    # Zero spot\n",
        "    cond = (rand_spot) < 10\n",
        "    answer.nb_spots[cond] = 0\n",
        "    # One spot\n",
        "    cond = (rand_spot >= 10) & (rand_spot < 20)\n",
        "    answer.nb_spots[cond] = 1\n",
        "    answer.x_first_spot[cond] = rand_location[cond]\n",
        "    answer.y_first_spot[cond] = rand_location[cond]\n",
        "    # Two spots\n",
        "    cond = (rand_spot == 20)\n",
        "    answer.nb_spots[cond] = 2\n",
        "    answer.x_first_spot[cond] = rand_location[cond]\n",
        "    answer.y_first_spot[cond] = rand_location[cond]\n",
        "    answer.x_second_spot[cond] = rand_location[cond]\n",
        "    answer.y_second_spot[cond] = rand_location[cond]\n",
        "    return answer"
      ],
      "execution_count": 0,
      "outputs": []
    },
    {
      "metadata": {
        "id": "DfPaiT_n0b3a",
        "colab_type": "code",
        "outputId": "285cc707-519c-425b-d6a5-e669d1d904f8",
        "colab": {
          "base_uri": "https://localhost:8080/",
          "height": 166
        }
      },
      "cell_type": "code",
      "source": [
        "train_prediction = random_predict(train_images)\n",
        "train_prediction.groupby(\"nb_spots\").mean()"
      ],
      "execution_count": 0,
      "outputs": [
        {
          "output_type": "execute_result",
          "data": {
            "text/html": [
              "<div>\n",
              "<style scoped>\n",
              "    .dataframe tbody tr th:only-of-type {\n",
              "        vertical-align: middle;\n",
              "    }\n",
              "\n",
              "    .dataframe tbody tr th {\n",
              "        vertical-align: top;\n",
              "    }\n",
              "\n",
              "    .dataframe thead th {\n",
              "        text-align: right;\n",
              "    }\n",
              "</style>\n",
              "<table border=\"1\" class=\"dataframe\">\n",
              "  <thead>\n",
              "    <tr style=\"text-align: right;\">\n",
              "      <th></th>\n",
              "      <th>x_first_spot</th>\n",
              "      <th>y_first_spot</th>\n",
              "      <th>x_second_spot</th>\n",
              "      <th>y_second_spot</th>\n",
              "    </tr>\n",
              "    <tr>\n",
              "      <th>nb_spots</th>\n",
              "      <th></th>\n",
              "      <th></th>\n",
              "      <th></th>\n",
              "      <th></th>\n",
              "    </tr>\n",
              "  </thead>\n",
              "  <tbody>\n",
              "    <tr>\n",
              "      <th>0</th>\n",
              "      <td>0.000000</td>\n",
              "      <td>0.000000</td>\n",
              "      <td>0.000000</td>\n",
              "      <td>0.000000</td>\n",
              "    </tr>\n",
              "    <tr>\n",
              "      <th>1</th>\n",
              "      <td>11.494896</td>\n",
              "      <td>11.494896</td>\n",
              "      <td>0.000000</td>\n",
              "      <td>0.000000</td>\n",
              "    </tr>\n",
              "    <tr>\n",
              "      <th>2</th>\n",
              "      <td>11.516867</td>\n",
              "      <td>11.516867</td>\n",
              "      <td>11.516867</td>\n",
              "      <td>11.516867</td>\n",
              "    </tr>\n",
              "  </tbody>\n",
              "</table>\n",
              "</div>"
            ],
            "text/plain": [
              "          x_first_spot  y_first_spot  x_second_spot  y_second_spot\n",
              "nb_spots                                                          \n",
              "0             0.000000      0.000000       0.000000       0.000000\n",
              "1            11.494896     11.494896       0.000000       0.000000\n",
              "2            11.516867     11.516867      11.516867      11.516867"
            ]
          },
          "metadata": {
            "tags": []
          },
          "execution_count": 14
        }
      ]
    },
    {
      "metadata": {
        "id": "N1sijogM0dte",
        "colab_type": "code",
        "outputId": "82a74ba5-9b87-4a3c-cced-d38ed607f492",
        "colab": {
          "base_uri": "https://localhost:8080/",
          "height": 166
        }
      },
      "cell_type": "code",
      "source": [
        "test_images = read_images(\"images_test.tiff\")\n",
        "test_prediction = random_predict(test_images)\n",
        "test_prediction.groupby(\"nb_spots\").mean()"
      ],
      "execution_count": 0,
      "outputs": [
        {
          "output_type": "execute_result",
          "data": {
            "text/html": [
              "<div>\n",
              "<style scoped>\n",
              "    .dataframe tbody tr th:only-of-type {\n",
              "        vertical-align: middle;\n",
              "    }\n",
              "\n",
              "    .dataframe tbody tr th {\n",
              "        vertical-align: top;\n",
              "    }\n",
              "\n",
              "    .dataframe thead th {\n",
              "        text-align: right;\n",
              "    }\n",
              "</style>\n",
              "<table border=\"1\" class=\"dataframe\">\n",
              "  <thead>\n",
              "    <tr style=\"text-align: right;\">\n",
              "      <th></th>\n",
              "      <th>x_first_spot</th>\n",
              "      <th>y_first_spot</th>\n",
              "      <th>x_second_spot</th>\n",
              "      <th>y_second_spot</th>\n",
              "    </tr>\n",
              "    <tr>\n",
              "      <th>nb_spots</th>\n",
              "      <th></th>\n",
              "      <th></th>\n",
              "      <th></th>\n",
              "      <th></th>\n",
              "    </tr>\n",
              "  </thead>\n",
              "  <tbody>\n",
              "    <tr>\n",
              "      <th>0</th>\n",
              "      <td>0.000000</td>\n",
              "      <td>0.000000</td>\n",
              "      <td>0.000000</td>\n",
              "      <td>0.000000</td>\n",
              "    </tr>\n",
              "    <tr>\n",
              "      <th>1</th>\n",
              "      <td>11.518428</td>\n",
              "      <td>11.518428</td>\n",
              "      <td>0.000000</td>\n",
              "      <td>0.000000</td>\n",
              "    </tr>\n",
              "    <tr>\n",
              "      <th>2</th>\n",
              "      <td>11.482404</td>\n",
              "      <td>11.482404</td>\n",
              "      <td>11.482404</td>\n",
              "      <td>11.482404</td>\n",
              "    </tr>\n",
              "  </tbody>\n",
              "</table>\n",
              "</div>"
            ],
            "text/plain": [
              "          x_first_spot  y_first_spot  x_second_spot  y_second_spot\n",
              "nb_spots                                                          \n",
              "0             0.000000      0.000000       0.000000       0.000000\n",
              "1            11.518428     11.518428       0.000000       0.000000\n",
              "2            11.482404     11.482404      11.482404      11.482404"
            ]
          },
          "metadata": {
            "tags": []
          },
          "execution_count": 15
        }
      ]
    },
    {
      "metadata": {
        "id": "_ywJovz10fMA",
        "colab_type": "code",
        "colab": {}
      },
      "cell_type": "code",
      "source": [
        "test_prediction.to_csv(\"answers.csv\", header= False)"
      ],
      "execution_count": 0,
      "outputs": []
    },
    {
      "metadata": {
        "id": "9gx7XVR_0g0d",
        "colab_type": "code",
        "colab": {}
      },
      "cell_type": "code",
      "source": [
        "# function used to compute the score in the competition\n",
        "## truth: the correct description of the spots\n",
        "## observe: the compute description of the spots\n",
        "def computeScore(truth, observe):\n",
        "    alpha0 = 21/50.0\n",
        "    alpha1 = 21/20.0\n",
        "    alpha2 = 21*3/10\n",
        "    assert len(truth) == len(observe)\n",
        "    score = 0\n",
        "    nb0 = 0\n",
        "    nb1 = 0\n",
        "    nb2 = 0\n",
        "    for i in range(len(truth)):\n",
        "        try :\n",
        "            assert len(truth[i])==6\n",
        "            assert len(observe[i])==6\n",
        "        except:\n",
        "            print(len(truth[i]))\n",
        "            print(len(observe[i]))\n",
        "            print(i)\n",
        "            print(\"ERROR: the format of the file is wrong\")\n",
        "            return 1000000000000\n",
        "        cur_truth = [int(truth[i][1]), float(truth[i][2]), float(truth[i][3]), float(truth[i][4]), float(truth[i][5])]\n",
        "        cur_observe = [int(observe[i][1]), float(observe[i][2]), float(observe[i][3]), float(observe[i][4]), float(observe[i][5])]\n",
        "\n",
        "        if cur_truth[0] == 0:\n",
        "            score += alpha0 * f0(cur_truth, cur_observe)\n",
        "            nb0 += 1\n",
        "        elif cur_truth[0] == 1:\n",
        "            score += alpha1 * f1(cur_truth, cur_observe)\n",
        "            nb1 += 1\n",
        "        elif cur_truth[0] == 2:\n",
        "            score += alpha2 * f2(cur_truth, cur_observe)\n",
        "            nb2 += 1\n",
        "        else :\n",
        "            score+=1\n",
        "    return score/ (nb0 * alpha0 + nb1 * alpha1 + nb2 * alpha2)\n",
        "\n",
        "\n",
        "# function to evaluate the score for image with zero spot\n",
        "def f0(t, o):\n",
        "    # print o[0]\n",
        "    if o[0] == 0:\n",
        "        return 0\n",
        "    return 1\n",
        "\n",
        "# function to evaluate the score for image with one spot\n",
        "def f1(t,o):\n",
        "    if o[0] == 0:\n",
        "        return 1\n",
        "    if o[0] == 1:\n",
        "        return d(o[1],o[2],t[1],t[2])\n",
        "    return ((1 + min(d(o[1], o[2], t[1], t[2]), d(o[3],o[4],t[1],t[2])))/ 2.0)\n",
        "\n",
        "# function to evaluate the score for image with two spot\n",
        "def f2(t,o):\n",
        "    if o[0]==0:\n",
        "        return 1\n",
        "    if o[0] == 1:\n",
        "        return ((1 + min(d(o[1], o[2], t[1], t[2]), d(o[1],o[2],t[3],t[4])))/ 2.0)\n",
        "    return (min( d(o[1], o[2], t[1], t[2]) + d(o[3], o[4], t[3], t[4]) , d(o[1], o[2], t[3], t[4]) + d(o[3], o[4], t[1], t[2]) )/ 2.0)\n",
        "\n",
        "# function of distance, evalue the quality of the detection\n",
        "def d(x1, y1, x2, y2):\n",
        "    dist = sqrt((x2-x1) * (x2-x1) + (y2-y1)*(y2-y1))\n",
        "    if dist < 2:\n",
        "        return ( (dist)/2.0)\n",
        "    return 1"
      ],
      "execution_count": 0,
      "outputs": []
    },
    {
      "metadata": {
        "id": "ocxOTzsh0ktS",
        "colab_type": "code",
        "outputId": "5f6f0721-f27b-4e14-f5f4-e78aa54168a5",
        "colab": {
          "base_uri": "https://localhost:8080/",
          "height": 34
        }
      },
      "cell_type": "code",
      "source": [
        "truth = descriptions.reset_index().values\n",
        "find = train_prediction.reset_index().values\n",
        "print(f'Score: {computeScore(truth, find)}')"
      ],
      "execution_count": 0,
      "outputs": [
        {
          "output_type": "stream",
          "text": [
            "Score: 0.8984613665914\n"
          ],
          "name": "stdout"
        }
      ]
    },
    {
      "metadata": {
        "id": "CJoFenLB0mi3",
        "colab_type": "code",
        "colab": {}
      },
      "cell_type": "code",
      "source": [
        ""
      ],
      "execution_count": 0,
      "outputs": []
    }
  ]
}